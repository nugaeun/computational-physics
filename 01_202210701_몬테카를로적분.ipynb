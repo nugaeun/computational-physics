{
  "nbformat": 4,
  "nbformat_minor": 0,
  "metadata": {
    "colab": {
      "provenance": []
    },
    "kernelspec": {
      "name": "python3",
      "display_name": "Python 3"
    },
    "language_info": {
      "name": "python"
    }
  },
  "cells": [
    {
      "cell_type": "code",
      "execution_count": 38,
      "metadata": {
        "colab": {
          "base_uri": "https://localhost:8080/"
        },
        "id": "ZmO-rfFbhd_q",
        "outputId": "bff26617-7c37-472c-c762-9ff1aae047be"
      },
      "outputs": [
        {
          "output_type": "stream",
          "name": "stdout",
          "text": [
            "4.01040700057338\n"
          ]
        }
      ],
      "source": [
        "import random as rd\n",
        "\n",
        "# 함수 g(x)를 정의\n",
        "def g(x):\n",
        "  return 3*x**2\n",
        "\n",
        "N = 100000  # N = 반복횟수. 샘플링 수.\n",
        "E = 0       # E(g(x)) 의 값\n",
        "\n",
        "# N번 반복하면서 g(x)를 계산하고 E에 더함\n",
        "for i in range(0,N+1):\n",
        "  random_number = rd.uniform(0,2)   # 0과 2 사이의 균일 분포에서 무작위로 수를 샘플링\n",
        "  E += g(random_number)             # 샘플링한 무작위 숫자를 함수 g(x)에 대입하여 값을 구하고 E에 더함\n",
        "\n",
        "E /= N      # E를 N으로 나누어 평균값 계산\n",
        "\n",
        "print(E)    # 계산된 E 출력"
      ]
    }
  ]
}